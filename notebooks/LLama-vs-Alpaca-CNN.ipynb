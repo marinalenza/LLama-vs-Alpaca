{
 "cells": [
  {
   "cell_type": "markdown",
   "id": "d2fb6564",
   "metadata": {},
   "source": [
    "# LLama vs Alpaca CNN "
   ]
  },
  {
   "cell_type": "markdown",
   "id": "2306f57a",
   "metadata": {},
   "source": [
    "CNN capable of differentiating llamas and alpacas"
   ]
  },
  {
   "cell_type": "markdown",
   "id": "2591e7f5",
   "metadata": {},
   "source": [
    "## 1. Import Packages"
   ]
  },
  {
   "cell_type": "code",
   "execution_count": 2,
   "id": "20522f9d",
   "metadata": {},
   "outputs": [],
   "source": [
    "import numpy as np\n",
    "import pandas as pd\n",
    "from keras.preprocessing.image import load_img\n",
    "from keras.utils import to_categorical\n",
    "from sklearn.model_selection import train_test_split\n",
    "import matplotlib.pyplot as plt\n",
    "import random\n",
    "import os\n",
    "from PIL import Image"
   ]
  },
  {
   "cell_type": "markdown",
   "id": "bf7c5d4c",
   "metadata": {},
   "source": [
    "## 2. Process Images"
   ]
  },
  {
   "cell_type": "markdown",
   "id": "b8826d72",
   "metadata": {},
   "source": [
    "### 2.1. Convert to png and rename photos"
   ]
  },
  {
   "cell_type": "code",
   "execution_count": 18,
   "id": "f70ee0e5",
   "metadata": {},
   "outputs": [],
   "source": [
    "def convert_and_rename_photos(directory_origin, directory_destiny, base_name):\n",
    "    # Get a list of all files in the directory_origin\n",
    "    files = os.listdir(directory_origin)\n",
    "    \n",
    "    # Filter out only image files\n",
    "    image_files = [file for file in files if file.lower().endswith(('.png', '.jpg', '.jpeg', '.gif', '.bmp','.webp'))]\n",
    "    \n",
    "    # Initialize a counter for renaming\n",
    "    counter = 1\n",
    "    \n",
    "    # Loop through each image file\n",
    "    for filename in image_files:\n",
    "        # Open the image\n",
    "        image_path = os.path.join(directory_origin, filename)\n",
    "        with Image.open(image_path) as img:\n",
    "            # Convert the image to PNG\n",
    "            png_path = os.path.join(directory_destiny, f\"{base_name}{counter}.png\")\n",
    "            img.save(png_path, \"PNG\")\n",
    "        \n",
    "        # Check if the destination file already exists\n",
    "        if os.path.exists(png_path):\n",
    "            # Delete the existing file\n",
    "            os.remove(png_path)\n",
    "        \n",
    "        # Rename the file\n",
    "        os.rename(image_path, png_path)\n",
    "        \n",
    "        # Increment the counter\n",
    "        counter += 1"
   ]
  },
  {
   "cell_type": "code",
   "execution_count": 7,
   "id": "94ebed46",
   "metadata": {},
   "outputs": [],
   "source": [
    "# Get the directory of the current script\n",
    "current_dir = os.getcwd()\n",
    "\n",
    "# Construct the absolute path to the file in 'dir0/dir1/dir3/'\n",
    "origin_path = os.path.join(current_dir, '..', 'data/raw/alpaca')\n",
    "destiny_path = os.path.join(current_dir, '..', 'data/processed')\n",
    "base_name = \"alpaca\""
   ]
  },
  {
   "cell_type": "code",
   "execution_count": 19,
   "id": "b7f70e8a",
   "metadata": {},
   "outputs": [],
   "source": [
    "convert_and_rename_photos(origin_path,destiny_path, base_name)"
   ]
  },
  {
   "cell_type": "code",
   "execution_count": 20,
   "id": "d0fbdaca",
   "metadata": {},
   "outputs": [],
   "source": [
    "origin_path = os.path.join(current_dir, '..', 'data/raw/llama')\n",
    "destiny_path = os.path.join(current_dir, '..', 'data/processed')\n",
    "base_name = \"llama\""
   ]
  },
  {
   "cell_type": "code",
   "execution_count": 21,
   "id": "1c4d3739",
   "metadata": {},
   "outputs": [],
   "source": [
    "convert_and_rename_photos(origin_path,destiny_path, base_name)"
   ]
  },
  {
   "cell_type": "markdown",
   "id": "e8d13c79",
   "metadata": {},
   "source": [
    "### 2.2. Resize Images"
   ]
  },
  {
   "cell_type": "code",
   "execution_count": 22,
   "id": "19c091dd",
   "metadata": {},
   "outputs": [],
   "source": [
    "def resize_images(directory, output_directory, target_size=(200, 200)):\n",
    "    # Create the output directory if it doesn't exist\n",
    "    if not os.path.exists(output_directory):\n",
    "        os.makedirs(output_directory)\n",
    "    \n",
    "    # Get a list of all files in the directory\n",
    "    files = os.listdir(directory)\n",
    "    \n",
    "    # Filter out only image files\n",
    "    image_files = [file for file in files if file.lower().endswith(('.png', '.jpg', '.jpeg', '.gif', '.bmp'))]\n",
    "    \n",
    "    # Loop through each image file\n",
    "    for filename in image_files:\n",
    "        # Open the image\n",
    "        image_path = os.path.join(directory, filename)\n",
    "        with Image.open(image_path) as img:\n",
    "            # Resize the image\n",
    "            resized_img = img.resize(target_size)\n",
    "            \n",
    "            # Save the resized image to the output directory\n",
    "            output_path = os.path.join(output_directory, filename)\n",
    "            resized_img.save(output_path)"
   ]
  },
  {
   "cell_type": "code",
   "execution_count": 23,
   "id": "c01dfa35",
   "metadata": {},
   "outputs": [],
   "source": [
    "directory = os.path.join(current_dir, '..', 'data/processed')\n",
    "output_directory = os.path.join(current_dir, '..', 'data/processed/resize')"
   ]
  },
  {
   "cell_type": "code",
   "execution_count": 24,
   "id": "edbb2870",
   "metadata": {},
   "outputs": [],
   "source": [
    "resize_images(directory, output_directory)"
   ]
  },
  {
   "cell_type": "markdown",
   "id": "c6f55cbe",
   "metadata": {},
   "source": [
    "### 2.3. Split into standard directories"
   ]
  },
  {
   "cell_type": "code",
   "execution_count": 25,
   "id": "aa76ebd6",
   "metadata": {},
   "outputs": [],
   "source": [
    "# import packages\n",
    "from os import makedirs\n",
    "from os import listdir\n",
    "from shutil import copyfile\n",
    "from random import seed\n",
    "from random import random"
   ]
  },
  {
   "cell_type": "code",
   "execution_count": 27,
   "id": "478d17c4",
   "metadata": {},
   "outputs": [],
   "source": [
    "# create directories\n",
    "dataset_home = os.path.join(current_dir, '..', 'data/processed/resize/')\n",
    "subdirs = ['train/', 'test/']\n",
    "for subdir in subdirs:\n",
    "\t# create label subdirectories\n",
    "\tlabeldirs = ['llamas/', 'alpacas/']\n",
    "\tfor labldir in labeldirs:\n",
    "\t\tnewdir = dataset_home + subdir + labldir\n",
    "\t\tmakedirs(newdir, exist_ok=True)"
   ]
  },
  {
   "cell_type": "code",
   "execution_count": 54,
   "id": "92c301e2",
   "metadata": {},
   "outputs": [],
   "source": [
    "import os\n",
    "import random\n",
    "from shutil import copyfile\n",
    "def split_dataset(src_dir, dest_dir, train_ratio=0.75):\n",
    "    # Create train and test directories\n",
    "    train_dir = os.path.join(dest_dir, 'train')\n",
    "    test_dir = os.path.join(dest_dir, 'test')\n",
    "    os.makedirs(train_dir, exist_ok=True)\n",
    "    os.makedirs(test_dir, exist_ok=True)\n",
    "    \n",
    "    # Create alpacas and llamas directories in train and test directories\n",
    "    for directory in ['alpacas', 'llamas']:\n",
    "        os.makedirs(os.path.join(train_dir, directory), exist_ok=True)\n",
    "        os.makedirs(os.path.join(test_dir, directory), exist_ok=True)\n",
    "    \n",
    "    # Loop through each file in the source directory\n",
    "    for file in os.listdir(src_dir):\n",
    "        src = os.path.join(src_dir, file)\n",
    "        if file.startswith('alpaca'):\n",
    "            dst_dir = os.path.join(train_dir, 'alpacas') if random.random() < train_ratio else os.path.join(test_dir, 'alpacas')\n",
    "        elif file.startswith('llama'):\n",
    "            dst_dir = os.path.join(train_dir, 'llamas') if random.random() < train_ratio else os.path.join(test_dir, 'llamas')\n",
    "        \n",
    "        # Copy the file to the appropriate train or test directory\n",
    "        copyfile(src, os.path.join(dst_dir, file))\n",
    "\n",
    "# Example usage:\n",
    "src_directory = os.path.join(current_dir, '..', 'data/processed/resize')\n",
    "dest_directory =os.path.join(current_dir, 'dataset')\n",
    "split_dataset(src_directory, dest_directory)"
   ]
  },
  {
   "cell_type": "markdown",
   "id": "10617349",
   "metadata": {},
   "source": [
    "## 3. Baseline CNN"
   ]
  },
  {
   "cell_type": "code",
   "execution_count": 8,
   "id": "a7dd3c82",
   "metadata": {},
   "outputs": [],
   "source": [
    "# Import Packages\n",
    "import sys\n",
    "from matplotlib import pyplot\n",
    "from keras.utils import to_categorical\n",
    "from keras.models import Sequential\n",
    "from keras.layers import Conv2D\n",
    "from keras.layers import MaxPooling2D\n",
    "from keras.layers import Dense\n",
    "from keras.layers import Flatten\n",
    "from keras.optimizers import SGD,Adam\n",
    "from keras.losses import BinaryCrossentropy\n",
    "from tensorflow.keras.preprocessing.image import ImageDataGenerator"
   ]
  },
  {
   "cell_type": "code",
   "execution_count": 107,
   "id": "8095da7a",
   "metadata": {},
   "outputs": [],
   "source": [
    "# define cnn model\n",
    "def define_model():\n",
    "    model = Sequential()\n",
    "    model.add(Conv2D(32, (3, 3), activation='relu', kernel_initializer='he_uniform', padding='same', input_shape=(200, 200, 3)))\n",
    "    model.add(MaxPooling2D((2, 2)))\n",
    "    model.add(Flatten())\n",
    "    model.add(Dense(128, activation='relu', kernel_initializer='he_uniform'))\n",
    "    model.add(Dense(1, activation='sigmoid'))\n",
    "    # compile model\n",
    "    opt = Adam(learning_rate=0.0001)\n",
    "    model.compile(optimizer=opt,loss=BinaryCrossentropy(),metrics=['accuracy'])\n",
    "    return model"
   ]
  },
  {
   "cell_type": "code",
   "execution_count": 110,
   "id": "613419cb",
   "metadata": {},
   "outputs": [],
   "source": [
    "# define model\n",
    "model = define_model()"
   ]
  },
  {
   "cell_type": "code",
   "execution_count": 65,
   "id": "85db4186",
   "metadata": {},
   "outputs": [],
   "source": [
    "# create data generator\n",
    "datagen = ImageDataGenerator(rescale=1.0/255.0)"
   ]
  },
  {
   "cell_type": "code",
   "execution_count": 60,
   "id": "ab097b21",
   "metadata": {},
   "outputs": [
    {
     "name": "stdout",
     "output_type": "stream",
     "text": [
      "Found 254 images belonging to 2 classes.\n",
      "Found 117 images belonging to 2 classes.\n"
     ]
    }
   ],
   "source": [
    "# prepare iterators\n",
    "train_it = datagen.flow_from_directory(os.path.join(current_dir, 'dataset/train'),\n",
    " class_mode='binary', batch_size=32, target_size=(200, 200))\n",
    "test_it = datagen.flow_from_directory(os.path.join(current_dir, 'dataset/test'),\n",
    " class_mode='binary', batch_size=32, target_size=(200, 200))"
   ]
  },
  {
   "cell_type": "code",
   "execution_count": 111,
   "id": "75da3602",
   "metadata": {},
   "outputs": [
    {
     "name": "stdout",
     "output_type": "stream",
     "text": [
      "Epoch 1/20\n",
      "8/8 - 33s - 4s/step - accuracy: 0.5000 - loss: 5.8317\n",
      "Epoch 2/20\n",
      "8/8 - 0s - 23ms/step - accuracy: 0.0000e+00 - loss: 0.0000e+00\n",
      "Epoch 3/20\n",
      "8/8 - 7s - 842ms/step - accuracy: 0.6024 - loss: 1.4424\n",
      "Epoch 4/20\n",
      "8/8 - 0s - 3ms/step - accuracy: 0.0000e+00 - loss: 0.0000e+00\n",
      "Epoch 5/20\n",
      "8/8 - 5s - 687ms/step - accuracy: 0.6732 - loss: 0.6923\n",
      "Epoch 6/20\n",
      "8/8 - 0s - 3ms/step - accuracy: 0.0000e+00 - loss: 0.0000e+00\n",
      "Epoch 7/20\n",
      "8/8 - 6s - 714ms/step - accuracy: 0.7874 - loss: 0.4610\n",
      "Epoch 8/20\n",
      "8/8 - 0s - 2ms/step - accuracy: 0.0000e+00 - loss: 0.0000e+00\n",
      "Epoch 9/20\n",
      "8/8 - 6s - 707ms/step - accuracy: 0.8346 - loss: 0.4025\n",
      "Epoch 10/20\n",
      "8/8 - 0s - 2ms/step - accuracy: 0.0000e+00 - loss: 0.0000e+00\n",
      "Epoch 11/20\n",
      "8/8 - 5s - 685ms/step - accuracy: 0.8465 - loss: 0.3448\n",
      "Epoch 12/20\n",
      "8/8 - 0s - 2ms/step - accuracy: 0.0000e+00 - loss: 0.0000e+00\n",
      "Epoch 13/20\n",
      "8/8 - 6s - 720ms/step - accuracy: 0.8819 - loss: 0.2862\n",
      "Epoch 14/20\n",
      "8/8 - 0s - 3ms/step - accuracy: 0.0000e+00 - loss: 0.0000e+00\n",
      "Epoch 15/20\n",
      "8/8 - 6s - 704ms/step - accuracy: 0.9488 - loss: 0.2186\n",
      "Epoch 16/20\n",
      "8/8 - 0s - 2ms/step - accuracy: 0.0000e+00 - loss: 0.0000e+00\n",
      "Epoch 17/20\n",
      "8/8 - 6s - 703ms/step - accuracy: 0.9449 - loss: 0.2065\n",
      "Epoch 18/20\n",
      "8/8 - 0s - 1ms/step - accuracy: 0.0000e+00 - loss: 0.0000e+00\n",
      "Epoch 19/20\n",
      "8/8 - 6s - 712ms/step - accuracy: 0.9331 - loss: 0.2174\n",
      "Epoch 20/20\n",
      "8/8 - 0s - 1000us/step - accuracy: 0.0000e+00 - loss: 0.0000e+00\n"
     ]
    }
   ],
   "source": [
    "# fit model\n",
    "history = model.fit(\n",
    "    train_it,\n",
    "    steps_per_epoch=len(train_it),\n",
    "    epochs=20,\n",
    "    verbose=2\n",
    ")"
   ]
  },
  {
   "cell_type": "code",
   "execution_count": 112,
   "id": "fff3876b",
   "metadata": {},
   "outputs": [
    {
     "name": "stdout",
     "output_type": "stream",
     "text": [
      "4/4 - 4s - 920ms/step - accuracy: 0.9487 - loss: 0.1843\n",
      "Test Loss: 0.1843060851097107\n",
      "Test Accuracy: 0.9487179517745972\n"
     ]
    }
   ],
   "source": [
    "# Evaluate the model using the test data generator\n",
    "evaluation = model.evaluate(\n",
    "    test_it,  # Data generator for test/validation data\n",
    "    steps=len(test_it),  # Number of steps (batches) to yield from the generator\n",
    "    verbose=2  # Verbosity mode. 0 = silent, 1 = progress bar, 2 = one line per epoch\n",
    ")\n",
    "\n",
    "# Print the evaluation results\n",
    "print(\"Test Loss:\", evaluation[0])\n",
    "print(\"Test Accuracy:\", evaluation[1])"
   ]
  },
  {
   "cell_type": "code",
   "execution_count": 113,
   "id": "27975d22",
   "metadata": {
    "scrolled": true
   },
   "outputs": [
    {
     "data": {
      "text/plain": [
       "[<matplotlib.lines.Line2D at 0x1bdbff09e10>]"
      ]
     },
     "execution_count": 113,
     "metadata": {},
     "output_type": "execute_result"
    },
    {
     "data": {
      "image/png": "[encoded data removed]",
      "text/plain": [
       "<Figure size 640x480 with 2 Axes>"
      ]
     },
     "metadata": {},
     "output_type": "display_data"
    }
   ],
   "source": [
    "# plot diagnostic learning curves\n",
    "# plot loss\n",
    "pyplot.subplot(211)\n",
    "pyplot.title('Cross Entropy Loss')\n",
    "pyplot.plot(history.history['loss'], color='blue', label='train')\n",
    "pyplot.show\n",
    "# plot accuracy\n",
    "pyplot.subplot(212)\n",
    "pyplot.title('Classification Accuracy')\n",
    "pyplot.plot(history.history['accuracy'], color='blue', label='train')\n"
   ]
  },
  {
   "cell_type": "code",
   "execution_count": 114,
   "id": "44b1ff56",
   "metadata": {},
   "outputs": [
    {
     "data": {
      "text/html": [
       "<pre style=\"white-space:pre;overflow-x:auto;line-height:normal;font-family:Menlo,'DejaVu Sans Mono',consolas,'Courier New',monospace\"><span style=\"font-weight: bold\">Model: \"sequential_12\"</span>\n",
       "</pre>\n"
      ],
      "text/plain": [
       "\u001b[1mModel: \"sequential_12\"\u001b[0m\n"
      ]
     },
     "metadata": {},
     "output_type": "display_data"
    },
    {
     "data": {
      "text/html": [
       "<pre style=\"white-space:pre;overflow-x:auto;line-height:normal;font-family:Menlo,'DejaVu Sans Mono',consolas,'Courier New',monospace\">┏━━━━━━━━━━━━━━━━━━━━━━━━━━━━━━━━━┳━━━━━━━━━━━━━━━━━━━━━━━━┳━━━━━━━━━━━━━━━┓\n",
       "┃<span style=\"font-weight: bold\"> Layer (type)                    </span>┃<span style=\"font-weight: bold\"> Output Shape           </span>┃<span style=\"font-weight: bold\">       Param # </span>┃\n",
       "┡━━━━━━━━━━━━━━━━━━━━━━━━━━━━━━━━━╇━━━━━━━━━━━━━━━━━━━━━━━━╇━━━━━━━━━━━━━━━┩\n",
       "│ conv2d_12 (<span style=\"color: #0087ff; text-decoration-color: #0087ff\">Conv2D</span>)              │ (<span style=\"color: #00d7ff; text-decoration-color: #00d7ff\">None</span>, <span style=\"color: #00af00; text-decoration-color: #00af00\">200</span>, <span style=\"color: #00af00; text-decoration-color: #00af00\">200</span>, <span style=\"color: #00af00; text-decoration-color: #00af00\">32</span>)   │           <span style=\"color: #00af00; text-decoration-color: #00af00\">896</span> │\n",
       "├─────────────────────────────────┼────────────────────────┼───────────────┤\n",
       "│ max_pooling2d_12 (<span style=\"color: #0087ff; text-decoration-color: #0087ff\">MaxPooling2D</span>) │ (<span style=\"color: #00d7ff; text-decoration-color: #00d7ff\">None</span>, <span style=\"color: #00af00; text-decoration-color: #00af00\">100</span>, <span style=\"color: #00af00; text-decoration-color: #00af00\">100</span>, <span style=\"color: #00af00; text-decoration-color: #00af00\">32</span>)   │             <span style=\"color: #00af00; text-decoration-color: #00af00\">0</span> │\n",
       "├─────────────────────────────────┼────────────────────────┼───────────────┤\n",
       "│ flatten_12 (<span style=\"color: #0087ff; text-decoration-color: #0087ff\">Flatten</span>)            │ (<span style=\"color: #00d7ff; text-decoration-color: #00d7ff\">None</span>, <span style=\"color: #00af00; text-decoration-color: #00af00\">320000</span>)         │             <span style=\"color: #00af00; text-decoration-color: #00af00\">0</span> │\n",
       "├─────────────────────────────────┼────────────────────────┼───────────────┤\n",
       "│ dense_24 (<span style=\"color: #0087ff; text-decoration-color: #0087ff\">Dense</span>)                │ (<span style=\"color: #00d7ff; text-decoration-color: #00d7ff\">None</span>, <span style=\"color: #00af00; text-decoration-color: #00af00\">128</span>)            │    <span style=\"color: #00af00; text-decoration-color: #00af00\">40,960,128</span> │\n",
       "├─────────────────────────────────┼────────────────────────┼───────────────┤\n",
       "│ dense_25 (<span style=\"color: #0087ff; text-decoration-color: #0087ff\">Dense</span>)                │ (<span style=\"color: #00d7ff; text-decoration-color: #00d7ff\">None</span>, <span style=\"color: #00af00; text-decoration-color: #00af00\">1</span>)              │           <span style=\"color: #00af00; text-decoration-color: #00af00\">129</span> │\n",
       "└─────────────────────────────────┴────────────────────────┴───────────────┘\n",
       "</pre>\n"
      ],
      "text/plain": [
       "┏━━━━━━━━━━━━━━━━━━━━━━━━━━━━━━━━━┳━━━━━━━━━━━━━━━━━━━━━━━━┳━━━━━━━━━━━━━━━┓\n",
       "┃\u001b[1m \u001b[0m\u001b[1mLayer (type)                   \u001b[0m\u001b[1m \u001b[0m┃\u001b[1m \u001b[0m\u001b[1mOutput Shape          \u001b[0m\u001b[1m \u001b[0m┃\u001b[1m \u001b[0m\u001b[1m      Param #\u001b[0m\u001b[1m \u001b[0m┃\n",
       "┡━━━━━━━━━━━━━━━━━━━━━━━━━━━━━━━━━╇━━━━━━━━━━━━━━━━━━━━━━━━╇━━━━━━━━━━━━━━━┩\n",
       "│ conv2d_12 (\u001b[38;5;33mConv2D\u001b[0m)              │ (\u001b[38;5;45mNone\u001b[0m, \u001b[38;5;34m200\u001b[0m, \u001b[38;5;34m200\u001b[0m, \u001b[38;5;34m32\u001b[0m)   │           \u001b[38;5;34m896\u001b[0m │\n",
       "├─────────────────────────────────┼────────────────────────┼───────────────┤\n",
       "│ max_pooling2d_12 (\u001b[38;5;33mMaxPooling2D\u001b[0m) │ (\u001b[38;5;45mNone\u001b[0m, \u001b[38;5;34m100\u001b[0m, \u001b[38;5;34m100\u001b[0m, \u001b[38;5;34m32\u001b[0m)   │             \u001b[38;5;34m0\u001b[0m │\n",
       "├─────────────────────────────────┼────────────────────────┼───────────────┤\n",
       "│ flatten_12 (\u001b[38;5;33mFlatten\u001b[0m)            │ (\u001b[38;5;45mNone\u001b[0m, \u001b[38;5;34m320000\u001b[0m)         │             \u001b[38;5;34m0\u001b[0m │\n",
       "├─────────────────────────────────┼────────────────────────┼───────────────┤\n",
       "│ dense_24 (\u001b[38;5;33mDense\u001b[0m)                │ (\u001b[38;5;45mNone\u001b[0m, \u001b[38;5;34m128\u001b[0m)            │    \u001b[38;5;34m40,960,128\u001b[0m │\n",
       "├─────────────────────────────────┼────────────────────────┼───────────────┤\n",
       "│ dense_25 (\u001b[38;5;33mDense\u001b[0m)                │ (\u001b[38;5;45mNone\u001b[0m, \u001b[38;5;34m1\u001b[0m)              │           \u001b[38;5;34m129\u001b[0m │\n",
       "└─────────────────────────────────┴────────────────────────┴───────────────┘\n"
      ]
     },
     "metadata": {},
     "output_type": "display_data"
    },
    {
     "data": {
      "text/html": [
       "<pre style=\"white-space:pre;overflow-x:auto;line-height:normal;font-family:Menlo,'DejaVu Sans Mono',consolas,'Courier New',monospace\"><span style=\"font-weight: bold\"> Total params: </span><span style=\"color: #00af00; text-decoration-color: #00af00\">122,883,461</span> (468.76 MB)\n",
       "</pre>\n"
      ],
      "text/plain": [
       "\u001b[1m Total params: \u001b[0m\u001b[38;5;34m122,883,461\u001b[0m (468.76 MB)\n"
      ]
     },
     "metadata": {},
     "output_type": "display_data"
    },
    {
     "data": {
      "text/html": [
       "<pre style=\"white-space:pre;overflow-x:auto;line-height:normal;font-family:Menlo,'DejaVu Sans Mono',consolas,'Courier New',monospace\"><span style=\"font-weight: bold\"> Trainable params: </span><span style=\"color: #00af00; text-decoration-color: #00af00\">40,961,153</span> (156.25 MB)\n",
       "</pre>\n"
      ],
      "text/plain": [
       "\u001b[1m Trainable params: \u001b[0m\u001b[38;5;34m40,961,153\u001b[0m (156.25 MB)\n"
      ]
     },
     "metadata": {},
     "output_type": "display_data"
    },
    {
     "data": {
      "text/html": [
       "<pre style=\"white-space:pre;overflow-x:auto;line-height:normal;font-family:Menlo,'DejaVu Sans Mono',consolas,'Courier New',monospace\"><span style=\"font-weight: bold\"> Non-trainable params: </span><span style=\"color: #00af00; text-decoration-color: #00af00\">0</span> (0.00 B)\n",
       "</pre>\n"
      ],
      "text/plain": [
       "\u001b[1m Non-trainable params: \u001b[0m\u001b[38;5;34m0\u001b[0m (0.00 B)\n"
      ]
     },
     "metadata": {},
     "output_type": "display_data"
    },
    {
     "data": {
      "text/html": [
       "<pre style=\"white-space:pre;overflow-x:auto;line-height:normal;font-family:Menlo,'DejaVu Sans Mono',consolas,'Courier New',monospace\"><span style=\"font-weight: bold\"> Optimizer params: </span><span style=\"color: #00af00; text-decoration-color: #00af00\">81,922,308</span> (312.51 MB)\n",
       "</pre>\n"
      ],
      "text/plain": [
       "\u001b[1m Optimizer params: \u001b[0m\u001b[38;5;34m81,922,308\u001b[0m (312.51 MB)\n"
      ]
     },
     "metadata": {},
     "output_type": "display_data"
    }
   ],
   "source": [
    "model.summary()"
   ]
  },
  {
   "cell_type": "markdown",
   "id": "4d38c61e",
   "metadata": {},
   "source": [
    "## 4. Adding a Dropout Layer"
   ]
  },
  {
   "cell_type": "code",
   "execution_count": 124,
   "id": "b9ff47b8",
   "metadata": {},
   "outputs": [],
   "source": [
    "def define_model_dropout():\n",
    "    model = Sequential()\n",
    "    model.add(Conv2D(32, (3, 3), activation='relu', kernel_initializer='he_uniform', padding='same', input_shape=(200, 200, 3)))\n",
    "    model.add(MaxPooling2D((2, 2)))\n",
    "    model.add(Dropout(0.25))  # Dropout rate: 25%\n",
    "    model.add(Flatten())\n",
    "    model.add(Dense(128, activation='relu', kernel_initializer='he_uniform'))\n",
    "    model.add(Dense(1, activation='sigmoid'))\n",
    "    # compile model\n",
    "    opt = Adam(learning_rate=0.0001)\n",
    "    model.compile(optimizer=opt,loss='binary_crossentropy',metrics=['accuracy'])\n",
    "    return model"
   ]
  },
  {
   "cell_type": "code",
   "execution_count": 125,
   "id": "afefafe2",
   "metadata": {},
   "outputs": [],
   "source": [
    "from keras.layers import Dropout\n",
    "model_d = define_model_dropout()"
   ]
  },
  {
   "cell_type": "code",
   "execution_count": 126,
   "id": "22884549",
   "metadata": {},
   "outputs": [
    {
     "name": "stdout",
     "output_type": "stream",
     "text": [
      "Epoch 1/20\n",
      "8/8 - 36s - 5s/step - accuracy: 0.4724 - loss: 9.2389\n",
      "Epoch 2/20\n",
      "8/8 - 0s - 17ms/step - accuracy: 0.0000e+00 - loss: 0.0000e+00\n",
      "Epoch 3/20\n",
      "8/8 - 13s - 2s/step - accuracy: 0.5157 - loss: 2.8902\n",
      "Epoch 4/20\n",
      "8/8 - 0s - 4ms/step - accuracy: 0.0000e+00 - loss: 0.0000e+00\n",
      "Epoch 5/20\n",
      "8/8 - 6s - 748ms/step - accuracy: 0.5866 - loss: 1.2522\n",
      "Epoch 6/20\n",
      "8/8 - 0s - 3ms/step - accuracy: 0.0000e+00 - loss: 0.0000e+00\n",
      "Epoch 7/20\n",
      "8/8 - 6s - 742ms/step - accuracy: 0.7008 - loss: 0.6388\n",
      "Epoch 8/20\n",
      "8/8 - 0s - 3ms/step - accuracy: 0.0000e+00 - loss: 0.0000e+00\n",
      "Epoch 9/20\n",
      "8/8 - 6s - 733ms/step - accuracy: 0.7362 - loss: 0.5459\n",
      "Epoch 10/20\n",
      "8/8 - 0s - 2ms/step - accuracy: 0.0000e+00 - loss: 0.0000e+00\n",
      "Epoch 11/20\n",
      "8/8 - 6s - 800ms/step - accuracy: 0.7677 - loss: 0.4120\n",
      "Epoch 12/20\n",
      "8/8 - 0s - 5ms/step - accuracy: 0.0000e+00 - loss: 0.0000e+00\n",
      "Epoch 13/20\n",
      "8/8 - 6s - 781ms/step - accuracy: 0.7756 - loss: 0.4317\n",
      "Epoch 14/20\n",
      "8/8 - 0s - 2ms/step - accuracy: 0.0000e+00 - loss: 0.0000e+00\n",
      "Epoch 15/20\n",
      "8/8 - 6s - 804ms/step - accuracy: 0.8819 - loss: 0.3359\n",
      "Epoch 16/20\n",
      "8/8 - 0s - 2ms/step - accuracy: 0.0000e+00 - loss: 0.0000e+00\n",
      "Epoch 17/20\n",
      "8/8 - 6s - 756ms/step - accuracy: 0.9134 - loss: 0.2774\n",
      "Epoch 18/20\n",
      "8/8 - 0s - 2ms/step - accuracy: 0.0000e+00 - loss: 0.0000e+00\n",
      "Epoch 19/20\n",
      "8/8 - 6s - 756ms/step - accuracy: 0.9409 - loss: 0.2565\n",
      "Epoch 20/20\n",
      "8/8 - 0s - 1ms/step - accuracy: 0.0000e+00 - loss: 0.0000e+00\n"
     ]
    }
   ],
   "source": [
    "# fit model\n",
    "history = model_d.fit(\n",
    "    train_it,\n",
    "    steps_per_epoch=len(train_it),\n",
    "    epochs=20,\n",
    "    verbose=2\n",
    ")"
   ]
  },
  {
   "cell_type": "code",
   "execution_count": 127,
   "id": "4916e03f",
   "metadata": {},
   "outputs": [
    {
     "name": "stdout",
     "output_type": "stream",
     "text": [
      "4/4 - 2s - 472ms/step - accuracy: 0.8974 - loss: 0.2861\n",
      "Test Loss: 0.28609928488731384\n",
      "Test Accuracy: 0.8974359035491943\n"
     ]
    }
   ],
   "source": [
    "# Evaluate the model using the test data generator\n",
    "evaluation = model_d.evaluate(\n",
    "    test_it,  # Data generator for test/validation data\n",
    "    steps=len(test_it),  # Number of steps (batches) to yield from the generator\n",
    "    verbose=2  # Verbosity mode. 0 = silent, 1 = progress bar, 2 = one line per epoch\n",
    ")\n",
    "\n",
    "# Print the evaluation results\n",
    "print(\"Test Loss:\", evaluation[0])\n",
    "print(\"Test Accuracy:\", evaluation[1])"
   ]
  },
  {
   "cell_type": "code",
   "execution_count": 128,
   "id": "eef70dcd",
   "metadata": {},
   "outputs": [
    {
     "data": {
      "text/plain": [
       "[<matplotlib.lines.Line2D at 0x1bdc07c1210>]"
      ]
     },
     "execution_count": 128,
     "metadata": {},
     "output_type": "execute_result"
    },
    {
     "data": {
      "image/png": "[encoded data removed]",
      "text/plain": [
       "<Figure size 640x480 with 2 Axes>"
      ]
     },
     "metadata": {},
     "output_type": "display_data"
    }
   ],
   "source": [
    "# plot diagnostic learning curves\n",
    "# plot loss\n",
    "pyplot.subplot(211)\n",
    "pyplot.title('Cross Entropy Loss')\n",
    "pyplot.plot(history.history['loss'], color='blue', label='train')\n",
    "pyplot.show\n",
    "# plot accuracy\n",
    "pyplot.subplot(212)\n",
    "pyplot.title('Classification Accuracy')\n",
    "pyplot.plot(history.history['accuracy'], color='blue', label='train')"
   ]
  },
  {
   "cell_type": "markdown",
   "id": "9f4a9d1a",
   "metadata": {},
   "source": [
    "## 5. Decrease Learning Rate + Batch Normalization"
   ]
  },
  {
   "cell_type": "code",
   "execution_count": 3,
   "id": "1281ffac",
   "metadata": {},
   "outputs": [],
   "source": [
    "def define_model_dropout():\n",
    "    model = Sequential()\n",
    "    model.add(Conv2D(32, (3, 3), activation='relu', kernel_initializer='he_uniform', padding='same', input_shape=(200, 200, 3)))\n",
    "    model.add(BatchNormalization())\n",
    "    model.add(MaxPooling2D((2, 2)))\n",
    "    model.add(Dropout(0.25))  # Dropout rate: 25%\n",
    "    model.add(Flatten())\n",
    "    model.add(Dense(128, activation='relu', kernel_initializer='he_uniform'))\n",
    "    model.add(Dense(1, activation='sigmoid'))\n",
    "    # compile model\n",
    "    opt = Adam(learning_rate=0.000001)\n",
    "    model.compile(optimizer=opt,loss='binary_crossentropy',metrics=['accuracy'])\n",
    "    return model"
   ]
  },
  {
   "cell_type": "code",
   "execution_count": 9,
   "id": "9b9a4209",
   "metadata": {},
   "outputs": [],
   "source": [
    "from keras.models import Sequential\n",
    "from keras.layers import Conv2D, MaxPooling2D, Flatten, Dense, BatchNormalization, Dropout\n",
    "model_d = define_model_dropout()"
   ]
  },
  {
   "cell_type": "code",
   "execution_count": 14,
   "id": "9afb8a2c",
   "metadata": {},
   "outputs": [
    {
     "name": "stdout",
     "output_type": "stream",
     "text": [
      "Found 254 images belonging to 2 classes.\n",
      "Found 117 images belonging to 2 classes.\n"
     ]
    }
   ],
   "source": [
    "# create data generator\n",
    "current_dir = os.getcwd()\n",
    "datagen = ImageDataGenerator(rescale=1.0/255.0,width_shift_range=0.1, height_shift_range=0.1, horizontal_flip=True)\n",
    "# prepare iterators\n",
    "train_it = datagen.flow_from_directory(os.path.join(current_dir, 'dataset/train'),\n",
    " class_mode='binary', batch_size=4, target_size=(200, 200))\n",
    "test_it = datagen.flow_from_directory(os.path.join(current_dir, 'dataset/test'),\n",
    " class_mode='binary', batch_size=4, target_size=(200, 200))"
   ]
  },
  {
   "cell_type": "code",
   "execution_count": 15,
   "id": "4f77a614",
   "metadata": {},
   "outputs": [
    {
     "name": "stdout",
     "output_type": "stream",
     "text": [
      "Epoch 1/10\n",
      "64/64 - 46s - 720ms/step - accuracy: 0.5984 - loss: 0.7356\n",
      "Epoch 2/10\n",
      "64/64 - 0s - 6ms/step - accuracy: 0.0000e+00 - loss: 0.0000e+00\n",
      "Epoch 3/10\n",
      "64/64 - 34s - 530ms/step - accuracy: 0.6299 - loss: 0.6456\n",
      "Epoch 4/10\n",
      "64/64 - 0s - 297us/step - accuracy: 0.0000e+00 - loss: 0.0000e+00\n",
      "Epoch 5/10\n",
      "64/64 - 32s - 507ms/step - accuracy: 0.6378 - loss: 0.6926\n",
      "Epoch 6/10\n",
      "64/64 - 0s - 563us/step - accuracy: 0.0000e+00 - loss: 0.0000e+00\n",
      "Epoch 7/10\n",
      "64/64 - 32s - 501ms/step - accuracy: 0.6850 - loss: 0.6227\n",
      "Epoch 8/10\n",
      "64/64 - 0s - 297us/step - accuracy: 0.0000e+00 - loss: 0.0000e+00\n",
      "Epoch 9/10\n",
      "64/64 - 32s - 498ms/step - accuracy: 0.6850 - loss: 0.6263\n",
      "Epoch 10/10\n",
      "64/64 - 0s - 187us/step - accuracy: 0.0000e+00 - loss: 0.0000e+00\n"
     ]
    }
   ],
   "source": [
    "# fit model\n",
    "history = model_d.fit(\n",
    "    train_it,\n",
    "    steps_per_epoch=len(train_it),\n",
    "    epochs=10,\n",
    "    verbose=2\n",
    ")"
   ]
  },
  {
   "cell_type": "code",
   "execution_count": 141,
   "id": "645d419d",
   "metadata": {},
   "outputs": [
    {
     "name": "stdout",
     "output_type": "stream",
     "text": [
      "4/4 - 16s - 4s/step - accuracy: 0.6923 - loss: 0.5746\n",
      "Test Loss: 0.5745804905891418\n",
      "Test Accuracy: 0.692307710647583\n"
     ]
    }
   ],
   "source": [
    "# Evaluate the model using the test data generator\n",
    "evaluation = model_d.evaluate(\n",
    "    test_it,  # Data generator for test/validation data\n",
    "    steps=len(test_it),  # Number of steps (batches) to yield from the generator\n",
    "    verbose=2  # Verbosity mode. 0 = silent, 1 = progress bar, 2 = one line per epoch\n",
    ")\n",
    "\n",
    "# Print the evaluation results\n",
    "print(\"Test Loss:\", evaluation[0])\n",
    "print(\"Test Accuracy:\", evaluation[1])"
   ]
  },
  {
   "cell_type": "code",
   "execution_count": 142,
   "id": "1a5427e3",
   "metadata": {},
   "outputs": [
    {
     "data": {
      "text/plain": [
       "[<matplotlib.lines.Line2D at 0x1bd7c9b0810>]"
      ]
     },
     "execution_count": 142,
     "metadata": {},
     "output_type": "execute_result"
    },
    {
     "data": {
      "image/png": "[encoded data removed]",
      "text/plain": [
       "<Figure size 640x480 with 2 Axes>"
      ]
     },
     "metadata": {},
     "output_type": "display_data"
    }
   ],
   "source": [
    "# plot diagnostic learning curves\n",
    "# plot loss\n",
    "pyplot.subplot(211)\n",
    "pyplot.title('Cross Entropy Loss')\n",
    "pyplot.plot(history.history['loss'], color='blue', label='train')\n",
    "pyplot.show\n",
    "# plot accuracy\n",
    "pyplot.subplot(212)\n",
    "pyplot.title('Classification Accuracy')\n",
    "pyplot.plot(history.history['accuracy'], color='blue', label='train')"
   ]
  },
  {
   "cell_type": "code",
   "execution_count": null,
   "id": "72b77e43",
   "metadata": {},
   "outputs": [],
   "source": []
  }
 ],
 "metadata": {
  "kernelspec": {
   "display_name": "Python 3 (ipykernel)",
   "language": "python",
   "name": "python3"
  },
  "language_info": {
   "codemirror_mode": {
    "name": "ipython",
    "version": 3
   },
   "file_extension": ".py",
   "mimetype": "text/x-python",
   "name": "python",
   "nbconvert_exporter": "python",
   "pygments_lexer": "ipython3",
   "version": "3.11.5"
  }
 },
 "nbformat": 4,
 "nbformat_minor": 5
}
